{
 "cells": [
  {
   "cell_type": "markdown",
   "metadata": {},
   "source": [
    "# Initial data read\n",
    "Notebook to begin exploring the UK air pollution data made available by the department for environment, food and rural affairs: [UK Air Information Resource](https://uk-air.defra.gov.uk/).  \n",
    "&copy; Crown 2020 copyright Defra via uk-air.defra.gov.uk, licenced under the [Open Government Licence (OGL)](http://www.nationalarchives.gov.uk/doc/open-government-licence/version/2/)."
   ]
  },
  {
   "cell_type": "markdown",
   "metadata": {},
   "source": [
    "First, want to access some air pollution readings for Oxford, UK."
   ]
  },
  {
   "cell_type": "code",
   "execution_count": 1,
   "metadata": {},
   "outputs": [
    {
     "name": "stdout",
     "output_type": "stream",
     "text": [
      "numpy  1.18.2\n",
      "pandas 1.0.3\n",
      "Simon-Lee-UK \n",
      "last updated: Fri Mar 27 2020 14:06:26 \n",
      "\n",
      "CPython 3.7.3\n",
      "IPython 7.13.0\n",
      "Git hash: 55908fdf6a17324d647e6f25174ef5da82c4a544\n"
     ]
    }
   ],
   "source": [
    "import time\n",
    "import pandas as pd\n",
    "import numpy as np\n",
    "\n",
    "# auto-formatting of notebook cell code\n",
    "%load_ext lab_black\n",
    "\n",
    "# tracks version numbers used to run notebook\n",
    "%load_ext watermark\n",
    "%watermark -u -n -t -iv -v -g -a Simon-Lee-UK"
   ]
  },
  {
   "cell_type": "markdown",
   "metadata": {},
   "source": [
    "## Data info\n",
    "All Data GMT hour ending  \n",
    "Status: R = Ratified / P = Provisional / P* = As supplied  \n",
    "Oxford St Ebbes  \n",
    "  \n",
    "### Raw columns:\n",
    "`Date` - format: 'dd-mm-yyyy'  \n",
    "`time` - 24 hour, e.g. '19:00'  \n",
    "`PM<sub>10</sub> particulate matter (Hourly measured)` - $PM_{10}$ particulate matter with diameter $< 10 \\;\\mu m$  \n",
    "`status` - ratified / provisional / as supplied  \n",
    "`unit` - $\\mu g \\:/\\: m^{3}$ (FIDAS)  \n",
    "`Nitric oxide` - 'NO'  \n",
    "`status.1` - ratified / provisional / as supplied  \n",
    "`unit.1` - $\\mu g \\:/\\: m^{3}$  \n",
    "`Nitrogen dioxide` - 'NO$_2$'  \n",
    "`status.2` - ratified / provisional / as supplied  \n",
    "`unit.2` - $\\mu g \\:/\\: m^{3}$  \n",
    "`Nitrogen oxides as nitrogen dioxide` - 'NO$_x$ as NO$_2$'  \n",
    "`status.3` - ratified / provisional / as supplied  \n",
    "`unit.3` - $\\mu g \\:/\\: m^{3}$  \n",
    "`PM<sub>2.5</sub> particulate matter (Hourly measured)` - $PM_{2.5}$ particulate matter with diameter $< 2.5 \\;\\mu m$    \n",
    "`status.4` - ratified / provisional / as supplied  \n",
    "`unit.4` - $\\mu g \\:/\\: m^{3}$ (Ref.eq)"
   ]
  },
  {
   "cell_type": "code",
   "execution_count": 2,
   "metadata": {},
   "outputs": [],
   "source": [
    "def get_single_year(year):\n",
    "    data_url = f\"https://uk-air.defra.gov.uk/data_files/site_data/OX8_{year}.csv\"\n",
    "    single_year = pd.read_csv(data_url, header=4)\n",
    "    return single_year\n",
    "\n",
    "\n",
    "def column_conversion(raw_data):\n",
    "    column_dict = {\n",
    "        \"Date\": \"date\",\n",
    "        \"PM<sub>10</sub> particulate matter (Hourly measured)\": \"pm_10\",\n",
    "        \"status\": \"status_pm_10\",\n",
    "        \"unit\": \"unit_pm_10\",\n",
    "        \"Nitric oxide\": \"nitric_oxide\",\n",
    "        \"status.1\": \"status_nitric_oxide\",\n",
    "        \"unit.1\": \"unit_nitric_oxide\",\n",
    "        \"Nitrogen dioxide\": \"nitrogen_dioxide\",\n",
    "        \"status.2\": \"status_nitrogen_dioxide\",\n",
    "        \"unit.2\": \"unit_nitrogen_dioxide\",\n",
    "        \"Nitrogen oxides as nitrogen dioxide\": \"NO2_eq\",\n",
    "        \"status.3\": \"status_NO2_eq\",\n",
    "        \"unit.3\": \"unit_NO2_eq\",\n",
    "        \"PM<sub>2.5</sub> particulate matter (Hourly measured)\": \"pm_2_5\",\n",
    "        \"status.4\": \"status_pm_2_5\",\n",
    "        \"unit.4\": \"unit_pm_2_5\",\n",
    "    }\n",
    "\n",
    "    converted_columns = raw_data.rename(columns=column_dict)\n",
    "    converted_columns = extend_date_with_time(converted_columns)\n",
    "    return converted_columns\n",
    "\n",
    "\n",
    "def extend_date_with_time(raw_data):\n",
    "    extended_date = raw_data.copy()\n",
    "    extended_date.time = extended_date.time.replace(\"24:00\", \"00:00\")\n",
    "    extended_date.date = extended_date.date + \" \" + extended_date.time\n",
    "    return extended_date\n",
    "\n",
    "\n",
    "def datetime_conversion(raw_data, target_column=\"date\", date_format=\"%d-%m-%Y %H:%M\"):\n",
    "    converted_datetime = raw_data.copy()\n",
    "    try:\n",
    "        converted_datetime[target_column] = pd.to_datetime(\n",
    "            converted_datetime[target_column], format=date_format\n",
    "        )\n",
    "    except ValueError:\n",
    "        converted_datetime[target_column] = pd.to_datetime(\n",
    "            converted_datetime[target_column]\n",
    "        )\n",
    "\n",
    "    return converted_datetime"
   ]
  },
  {
   "cell_type": "markdown",
   "metadata": {},
   "source": [
    "Data available back to 2008: 'https://uk-air.defra.gov.uk/data_files/site_data/OX8_2008.csv'  \n",
    "Can use consistent csv file names to loop and save a fully appended version of the data."
   ]
  },
  {
   "cell_type": "code",
   "execution_count": 3,
   "metadata": {},
   "outputs": [],
   "source": [
    "start_year = 2008\n",
    "end_year = 2020\n",
    "years_of_interest = list(np.arange(start_year, end_year + 1))"
   ]
  },
  {
   "cell_type": "code",
   "execution_count": 4,
   "metadata": {},
   "outputs": [],
   "source": [
    "for idx, indv_year in enumerate(years_of_interest):\n",
    "    single_year = get_single_year(year=indv_year)\n",
    "    processed_year = single_year.pipe(column_conversion).pipe(datetime_conversion)\n",
    "    if idx == 0:\n",
    "        air_pollution = processed_year.copy()\n",
    "    else:\n",
    "        air_pollution = air_pollution.append(processed_year, ignore_index=True)\n",
    "    time.sleep(3.5)  # creates interval between requests to uk-air.defra.gov.uk"
   ]
  },
  {
   "cell_type": "markdown",
   "metadata": {},
   "source": [
    "Inspect how many missing entries we have for this complete data set:"
   ]
  },
  {
   "cell_type": "code",
   "execution_count": 5,
   "metadata": {},
   "outputs": [
    {
     "data": {
      "text/plain": [
       "date                                                   0\n",
       "time                                                   0\n",
       "pm_10                                              21399\n",
       "status_pm_10                                       21399\n",
       "unit_pm_10                                         21399\n",
       "nitric_oxide                                       11981\n",
       "status_nitric_oxide                                11981\n",
       "unit_nitric_oxide                                  11981\n",
       "nitrogen_dioxide                                   13092\n",
       "status_nitrogen_dioxide                            13092\n",
       "unit_nitrogen_dioxide                              13092\n",
       "NO2_eq                                             13092\n",
       "status_NO2_eq                                      13092\n",
       "unit_NO2_eq                                        13092\n",
       "Non-volatile PM<sub>2.5</sub> (Hourly measured)    32534\n",
       "status_pm_2_5                                      33922\n",
       "unit_pm_2_5                                        33922\n",
       "pm_2_5                                             25959\n",
       "status.5                                           32534\n",
       "unit.5                                             32534\n",
       "Volatile PM2.5 (Hourly measured)                   90187\n",
       "status.6                                           28021\n",
       "unit.6                                             28021\n",
       "Non-volatile PM<sub>10</sub> (Hourly measured)     36291\n",
       "Volatile PM<sub>10</sub> (Hourly measured)         36291\n",
       "status.7                                           36291\n",
       "unit.7                                             36291\n",
       "status.8                                           32841\n",
       "unit.8                                             32841\n",
       "Volatile PM<sub>2.5</sub> (Hourly measured)        49603\n",
       "dtype: int64"
      ]
     },
     "execution_count": 5,
     "metadata": {},
     "output_type": "execute_result"
    }
   ],
   "source": [
    "air_pollution.isna().sum()"
   ]
  },
  {
   "cell_type": "code",
   "execution_count": null,
   "metadata": {},
   "outputs": [],
   "source": []
  }
 ],
 "metadata": {
  "kernelspec": {
   "display_name": "Python 3",
   "language": "python",
   "name": "python3"
  },
  "language_info": {
   "codemirror_mode": {
    "name": "ipython",
    "version": 3
   },
   "file_extension": ".py",
   "mimetype": "text/x-python",
   "name": "python",
   "nbconvert_exporter": "python",
   "pygments_lexer": "ipython3",
   "version": "3.7.3"
  }
 },
 "nbformat": 4,
 "nbformat_minor": 4
}
