{
 "cells": [
  {
   "cell_type": "markdown",
   "metadata": {},
   "source": [
    "# Initial data read\n",
    "Notebook to begin exploring the UK air pollution data made available by the department for environment, food and rural affairs: [UK Air Information Resource](https://uk-air.defra.gov.uk/).  \n",
    "&copy; Crown 2020 copyright Defra via uk-air.defra.gov.uk, licenced under the [Open Government Licence (OGL)](http://www.nationalarchives.gov.uk/doc/open-government-licence/version/2/)."
   ]
  },
  {
   "cell_type": "markdown",
   "metadata": {},
   "source": [
    "First, want to access some air pollution readings for Oxford, UK."
   ]
  },
  {
   "cell_type": "code",
   "execution_count": 1,
   "metadata": {},
   "outputs": [
    {
     "name": "stdout",
     "output_type": "stream",
     "text": [
      "pandas 1.0.3\n",
      "Simon-Lee-UK \n",
      "last updated: Thu Mar 26 2020 18:22:41 \n",
      "\n",
      "CPython 3.7.3\n",
      "IPython 7.13.0\n",
      "Git hash: 512b711c5486bdfb2e49e337d13407d394c2a272\n"
     ]
    }
   ],
   "source": [
    "import pandas as pd\n",
    "\n",
    "# auto-formatting of notebook cell code\n",
    "%load_ext lab_black\n",
    "\n",
    "# tracks version numbers used to run notebook\n",
    "%load_ext watermark\n",
    "%watermark -u -n -t -iv -v -g -a Simon-Lee-UK"
   ]
  },
  {
   "cell_type": "markdown",
   "metadata": {},
   "source": [
    "## Data info\n",
    "All Data GMT hour ending  \n",
    "Status: R =Ratified P=Provisional P*=As supplied  \n",
    "Oxford St Ebbes  \n",
    "  \n",
    "### Raw columns:\n",
    "`Date` - format: 'dd-mm-yyyy'  \n",
    "`time` - 24 hour, 'e.g. 19:00'  \n",
    "`PM<sub>10</sub> particulate matter (Hourly measured)` - $PM_{10}$ particulate matter with diameter $< 10 \\;\\mu m$  \n",
    "`status` - ratified / provisional / as supplied  \n",
    "`unit` - ugm-3 (FIDAS)  \n",
    "`Nitric oxide`  \n",
    "`status.1` - ratified / provisional / as supplied  \n",
    "`unit.1`  \n",
    "`Nitrogen dioxide`  \n",
    "`status.2` - ratified / provisional / as supplied  \n",
    "`unit.2`  \n",
    "`Nitrogen oxides as nitrogen dioxide`  \n",
    "`status.3` - ratified / provisional / as supplied  \n",
    "`unit.3`  \n",
    "`PM<sub>2.5</sub> particulate matter (Hourly measured)`  \n",
    "`status.4` - ratified / provisional / as supplied  \n",
    "`unit.4`"
   ]
  },
  {
   "cell_type": "code",
   "execution_count": 2,
   "metadata": {},
   "outputs": [],
   "source": [
    "df = pd.read_csv(\n",
    "    \"https://uk-air.defra.gov.uk/data_files/site_data/OX8_2020.csv\", header=4\n",
    ")"
   ]
  },
  {
   "cell_type": "markdown",
   "metadata": {},
   "source": [
    "Data available back to 2008: 'https://uk-air.defra.gov.uk/data_files/site_data/OX8_2008.csv'  \n",
    "Can use consistent csv file names to loop and save a fully appended version of the data."
   ]
  },
  {
   "cell_type": "code",
   "execution_count": 3,
   "metadata": {},
   "outputs": [
    {
     "data": {
      "text/plain": [
       "['Date',\n",
       " 'time',\n",
       " 'PM<sub>10</sub> particulate matter (Hourly measured)',\n",
       " 'status',\n",
       " 'unit',\n",
       " 'Nitric oxide',\n",
       " 'status.1',\n",
       " 'unit.1',\n",
       " 'Nitrogen dioxide',\n",
       " 'status.2',\n",
       " 'unit.2',\n",
       " 'Nitrogen oxides as nitrogen dioxide',\n",
       " 'status.3',\n",
       " 'unit.3',\n",
       " 'PM<sub>2.5</sub> particulate matter (Hourly measured)',\n",
       " 'status.4',\n",
       " 'unit.4']"
      ]
     },
     "execution_count": 3,
     "metadata": {},
     "output_type": "execute_result"
    }
   ],
   "source": [
    "df.columns.tolist()"
   ]
  },
  {
   "cell_type": "code",
   "execution_count": 4,
   "metadata": {},
   "outputs": [
    {
     "data": {
      "text/plain": [
       "Date                                                      object\n",
       "time                                                      object\n",
       "PM<sub>10</sub> particulate matter (Hourly measured)     float64\n",
       "status                                                    object\n",
       "unit                                                      object\n",
       "Nitric oxide                                             float64\n",
       "status.1                                                  object\n",
       "unit.1                                                    object\n",
       "Nitrogen dioxide                                         float64\n",
       "status.2                                                  object\n",
       "unit.2                                                    object\n",
       "Nitrogen oxides as nitrogen dioxide                      float64\n",
       "status.3                                                  object\n",
       "unit.3                                                    object\n",
       "PM<sub>2.5</sub> particulate matter (Hourly measured)    float64\n",
       "status.4                                                  object\n",
       "unit.4                                                    object\n",
       "dtype: object"
      ]
     },
     "execution_count": 4,
     "metadata": {},
     "output_type": "execute_result"
    }
   ],
   "source": [
    "df.dtypes"
   ]
  },
  {
   "cell_type": "code",
   "execution_count": 5,
   "metadata": {},
   "outputs": [
    {
     "data": {
      "text/plain": [
       "Date                                                      0\n",
       "time                                                      0\n",
       "PM<sub>10</sub> particulate matter (Hourly measured)      2\n",
       "status                                                    2\n",
       "unit                                                      2\n",
       "Nitric oxide                                             11\n",
       "status.1                                                 11\n",
       "unit.1                                                   11\n",
       "Nitrogen dioxide                                         11\n",
       "status.2                                                 11\n",
       "unit.2                                                   11\n",
       "Nitrogen oxides as nitrogen dioxide                      11\n",
       "status.3                                                 11\n",
       "unit.3                                                   11\n",
       "PM<sub>2.5</sub> particulate matter (Hourly measured)     2\n",
       "status.4                                                  2\n",
       "unit.4                                                    2\n",
       "dtype: int64"
      ]
     },
     "execution_count": 5,
     "metadata": {},
     "output_type": "execute_result"
    }
   ],
   "source": [
    "df.isna().sum()"
   ]
  },
  {
   "cell_type": "code",
   "execution_count": null,
   "metadata": {},
   "outputs": [],
   "source": []
  }
 ],
 "metadata": {
  "kernelspec": {
   "display_name": "Python 3",
   "language": "python",
   "name": "python3"
  },
  "language_info": {
   "codemirror_mode": {
    "name": "ipython",
    "version": 3
   },
   "file_extension": ".py",
   "mimetype": "text/x-python",
   "name": "python",
   "nbconvert_exporter": "python",
   "pygments_lexer": "ipython3",
   "version": "3.7.3"
  }
 },
 "nbformat": 4,
 "nbformat_minor": 4
}
